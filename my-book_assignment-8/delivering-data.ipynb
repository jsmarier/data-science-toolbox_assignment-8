{
 "cells": [
  {
   "cell_type": "markdown",
   "metadata": {},
   "source": [
    "All Jupyter Notebooks should contain at least\n",
    "5 Markdown cells with a total of at least\n",
    "2 block math equations\n",
    "2 code blocks\n",
    "2 image files\n",
    "5 executable code cells\n",
    "2 plots generated using 2 (additional) hidden code cells\n",
    "\n",
    "# Delivering Data\n",
    "\n",
    "Write a comparison of my visualization techniques.\n",
    "\n",
    "Altair vs Datawrapper\n",
    "Include Datawrapper screen captures of prep, viz, and customization"
   ]
  }
 ],
 "metadata": {
  "kernelspec": {
   "display_name": "Python 3 (ipykernel)",
   "language": "python",
   "name": "python3"
  },
  "language_info": {
   "codemirror_mode": {
    "name": "ipython",
    "version": 3
   },
   "file_extension": ".py",
   "mimetype": "text/x-python",
   "name": "python",
   "nbconvert_exporter": "python",
   "pygments_lexer": "ipython3",
   "version": "3.9.13"
  },
  "widgets": {
   "application/vnd.jupyter.widget-state+json": {
    "state": {},
    "version_major": 2,
    "version_minor": 0
   }
  }
 },
 "nbformat": 4,
 "nbformat_minor": 4
}
