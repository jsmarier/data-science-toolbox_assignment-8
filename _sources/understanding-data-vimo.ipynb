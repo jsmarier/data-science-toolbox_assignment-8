{
 "cells": [
  {
   "cell_type": "markdown",
   "metadata": {},
   "source": [
    "# Understanding Data: VIMO Analysis\n",
    "\n",
    "Write a comparison of my cleaning techniques.\n",
    "\n",
    "Define VIMO\n",
    "\n",
    "Google Sheets functions vs Python\n",
    "Inclure a LaTeX summary of the math formulas\n",
    "Screen capture of \"Column Stats\" vs Python function"
   ]
  },
  {
   "cell_type": "code",
   "execution_count": 17,
   "metadata": {},
   "outputs": [
    {
     "data": {
      "text/html": [
       "<div>\n",
       "<style scoped>\n",
       "    .dataframe tbody tr th:only-of-type {\n",
       "        vertical-align: middle;\n",
       "    }\n",
       "\n",
       "    .dataframe tbody tr th {\n",
       "        vertical-align: top;\n",
       "    }\n",
       "\n",
       "    .dataframe thead th {\n",
       "        text-align: right;\n",
       "    }\n",
       "</style>\n",
       "<table border=\"1\" class=\"dataframe\">\n",
       "  <thead>\n",
       "    <tr style=\"text-align: right;\">\n",
       "      <th></th>\n",
       "      <th>ST #</th>\n",
       "      <th>ROAD</th>\n",
       "      <th>PC</th>\n",
       "      <th>WARD</th>\n",
       "      <th>PLAN</th>\n",
       "      <th>LOT</th>\n",
       "      <th>CONTRACTOR</th>\n",
       "      <th>BLG TYPE</th>\n",
       "      <th>MUNICIPALITY</th>\n",
       "      <th>DESCRIPTION</th>\n",
       "      <th>D.U.</th>\n",
       "      <th>VALUE</th>\n",
       "      <th>FT2</th>\n",
       "      <th>PERMIT#</th>\n",
       "      <th>APPL. TYPE</th>\n",
       "      <th>ISSUED DATE</th>\n",
       "    </tr>\n",
       "  </thead>\n",
       "  <tbody>\n",
       "    <tr>\n",
       "      <th>0</th>\n",
       "      <td>372</td>\n",
       "      <td>BRETTONWOOD RIDGE</td>\n",
       "      <td>K2T0H8</td>\n",
       "      <td>Ward 4</td>\n",
       "      <td>4M1502</td>\n",
       "      <td>38</td>\n",
       "      <td>POOLARAMA</td>\n",
       "      <td>Single</td>\n",
       "      <td>Kanata</td>\n",
       "      <td>Install an enclosure for a semi inground pool ...</td>\n",
       "      <td>0</td>\n",
       "      <td>0</td>\n",
       "      <td>0</td>\n",
       "      <td>1807192</td>\n",
       "      <td>Pool Enclosure</td>\n",
       "      <td>2021-Oct-06</td>\n",
       "    </tr>\n",
       "    <tr>\n",
       "      <th>1</th>\n",
       "      <td>11</td>\n",
       "      <td>BEGGS CRT</td>\n",
       "      <td>K0A2E0</td>\n",
       "      <td>Ward 21</td>\n",
       "      <td>4M1579</td>\n",
       "      <td>1</td>\n",
       "      <td>CONTRACTOR UNKNOWN</td>\n",
       "      <td>Single</td>\n",
       "      <td>Rideau</td>\n",
       "      <td>Intall an enclosure for a semi-inground pool (...</td>\n",
       "      <td>0</td>\n",
       "      <td>0</td>\n",
       "      <td>0</td>\n",
       "      <td>2008197</td>\n",
       "      <td>Pool Enclosure</td>\n",
       "      <td>2021-Jul-06</td>\n",
       "    </tr>\n",
       "    <tr>\n",
       "      <th>2</th>\n",
       "      <td>5500</td>\n",
       "      <td>CEDAR DR</td>\n",
       "      <td>K4M1B4</td>\n",
       "      <td>Ward 20</td>\n",
       "      <td>NaN</td>\n",
       "      <td>18</td>\n",
       "      <td>BOISVERT, JOHN</td>\n",
       "      <td>Single</td>\n",
       "      <td>Osgoode</td>\n",
       "      <td>Install an enclosure for a hot tub (rear yard)</td>\n",
       "      <td>0</td>\n",
       "      <td>0</td>\n",
       "      <td>0</td>\n",
       "      <td>2010072</td>\n",
       "      <td>Pool Enclosure</td>\n",
       "      <td>2021-Jul-26</td>\n",
       "    </tr>\n",
       "    <tr>\n",
       "      <th>3</th>\n",
       "      <td>1458</td>\n",
       "      <td>CYRVILLE RD</td>\n",
       "      <td>K1B3L9</td>\n",
       "      <td>Ward 11</td>\n",
       "      <td>NaN</td>\n",
       "      <td>NaN</td>\n",
       "      <td>TIKKUN CONSTRUCTION</td>\n",
       "      <td>Retail</td>\n",
       "      <td>Gloucester</td>\n",
       "      <td>Tenant fit-up to a 1 storey mixed use building...</td>\n",
       "      <td>0</td>\n",
       "      <td>75,000</td>\n",
       "      <td>3767</td>\n",
       "      <td>2100001</td>\n",
       "      <td>Construction</td>\n",
       "      <td>2021-Jan-04</td>\n",
       "    </tr>\n",
       "    <tr>\n",
       "      <th>4</th>\n",
       "      <td>360</td>\n",
       "      <td>LAURIER AVE W</td>\n",
       "      <td>K1P1C8</td>\n",
       "      <td>Ward 14</td>\n",
       "      <td>2996</td>\n",
       "      <td>28 &amp; 29</td>\n",
       "      <td>CONTRACTOR UNKNOWN</td>\n",
       "      <td>Office</td>\n",
       "      <td>Old Ottawa</td>\n",
       "      <td>Interior alterations on the 2nd floor of an 11...</td>\n",
       "      <td>0</td>\n",
       "      <td>44,486</td>\n",
       "      <td>753</td>\n",
       "      <td>2100002</td>\n",
       "      <td>Construction</td>\n",
       "      <td>2021-Jan-04</td>\n",
       "    </tr>\n",
       "  </tbody>\n",
       "</table>\n",
       "</div>"
      ],
      "text/plain": [
       "    ST #                 ROAD      PC     WARD    PLAN      LOT  \\\n",
       "0   372    BRETTONWOOD RIDGE   K2T0H8   Ward 4  4M1502       38   \n",
       "1    11            BEGGS CRT   K0A2E0  Ward 21  4M1579        1   \n",
       "2  5500             CEDAR DR   K4M1B4  Ward 20     NaN       18   \n",
       "3  1458          CYRVILLE RD   K1B3L9  Ward 11     NaN      NaN   \n",
       "4   360         LAURIER AVE W  K1P1C8  Ward 14    2996  28 & 29   \n",
       "\n",
       "           CONTRACTOR  BLG TYPE  MUNICIPALITY   \\\n",
       "0            POOLARAMA    Single        Kanata   \n",
       "1   CONTRACTOR UNKNOWN    Single        Rideau   \n",
       "2       BOISVERT, JOHN    Single       Osgoode   \n",
       "3  TIKKUN CONSTRUCTION    Retail    Gloucester   \n",
       "4   CONTRACTOR UNKNOWN    Office    Old Ottawa   \n",
       "\n",
       "                                         DESCRIPTION  D.U.   VALUE   FT2  \\\n",
       "0  Install an enclosure for a semi inground pool ...     0       0     0   \n",
       "1  Intall an enclosure for a semi-inground pool (...     0       0     0   \n",
       "2     Install an enclosure for a hot tub (rear yard)     0       0     0   \n",
       "3  Tenant fit-up to a 1 storey mixed use building...     0  75,000  3767   \n",
       "4  Interior alterations on the 2nd floor of an 11...     0  44,486   753   \n",
       "\n",
       "   PERMIT#      APPL. TYPE   ISSUED DATE  \n",
       "0  1807192  Pool Enclosure   2021-Oct-06  \n",
       "1  2008197  Pool Enclosure   2021-Jul-06  \n",
       "2  2010072  Pool Enclosure   2021-Jul-26  \n",
       "3  2100001    Construction   2021-Jan-04  \n",
       "4  2100002    Construction   2021-Jan-04  "
      ]
     },
     "execution_count": 17,
     "metadata": {},
     "output_type": "execute_result"
    }
   ],
   "source": [
    "import pandas as pd\n",
    "\n",
    "permits = pd.read_csv('https://raw.githubusercontent.com/jsmarier/course-datasets/main/ottawa-building-permits-2021.csv')\n",
    "\n",
    "permits.head()"
   ]
  },
  {
   "cell_type": "code",
   "execution_count": null,
   "metadata": {},
   "outputs": [],
   "source": []
  },
  {
   "cell_type": "code",
   "execution_count": 14,
   "metadata": {},
   "outputs": [
    {
     "data": {
      "text/plain": [
       "66244707"
      ]
     },
     "execution_count": 14,
     "metadata": {},
     "output_type": "execute_result"
    }
   ],
   "source": [
    "permits['FT2'].sum()"
   ]
  },
  {
   "cell_type": "code",
   "execution_count": 15,
   "metadata": {},
   "outputs": [
    {
     "data": {
      "text/plain": [
       "4706.2167519181585"
      ]
     },
     "execution_count": 15,
     "metadata": {},
     "output_type": "execute_result"
    }
   ],
   "source": [
    "permits['FT2'].mean()"
   ]
  },
  {
   "cell_type": "code",
   "execution_count": null,
   "metadata": {},
   "outputs": [],
   "source": []
  }
 ],
 "metadata": {
  "kernelspec": {
   "display_name": "Python 3 (ipykernel)",
   "language": "python",
   "name": "python3"
  },
  "language_info": {
   "codemirror_mode": {
    "name": "ipython",
    "version": 3
   },
   "file_extension": ".py",
   "mimetype": "text/x-python",
   "name": "python",
   "nbconvert_exporter": "python",
   "pygments_lexer": "ipython3",
   "version": "3.9.13"
  },
  "widgets": {
   "application/vnd.jupyter.widget-state+json": {
    "state": {},
    "version_major": 2,
    "version_minor": 0
   }
  }
 },
 "nbformat": 4,
 "nbformat_minor": 4
}
